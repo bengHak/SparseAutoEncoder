{
  "nbformat": 4,
  "nbformat_minor": 0,
  "metadata": {
    "colab": {
      "name": "SparseAutoEncoder.ipynb",
      "version": "0.3.2",
      "provenance": [],
      "include_colab_link": true
    },
    "kernelspec": {
      "name": "python3",
      "display_name": "Python 3"
    },
    "accelerator": "GPU"
  },
  "cells": [
    {
      "cell_type": "markdown",
      "metadata": {
        "id": "view-in-github",
        "colab_type": "text"
      },
      "source": [
        "[View in Colaboratory](https://colab.research.google.com/github/bengHak/SparseAutoEncoder/blob/master/SparseAutoEncoder.ipynb)"
      ]
    },
    {
      "metadata": {
        "id": "Wm5TCLAvwk0V",
        "colab_type": "code",
        "colab": {
          "base_uri": "https://localhost:8080/",
          "height": 1453
        },
        "outputId": "17339697-2438-4056-8bbb-3f5e8f6317b2"
      },
      "cell_type": "code",
      "source": [
        "import tensorflow as tf\n",
        "import numpy as np\n",
        "import random\n",
        "import matplotlib.pyplot as plt\n",
        "\n",
        "from tensorflow.examples.tutorials.mnist import input_data\n",
        "\n",
        "mnist = input_data.read_data_sets(\"MNIST_data/\", one_hot=True)\n",
        "\n",
        "learning_rate = 0.0001\n",
        "training_epochs = 50\n",
        "batch_size = 100\n",
        "sp = 0.01 #sparse parameter\n",
        "rn = 0.02  #random number\n",
        "\n",
        "print('갯수 :', len(mnist.train.images))\n",
        "\n",
        "tf.reset_default_graph()\n",
        "\n",
        "X = tf.placeholder(tf.float32, [None, 784])\n",
        "\n",
        "W1 = tf.get_variable(\"W1\",shape=[784, 1024], initializer=tf.contrib.layers.xavier_initializer())\n",
        "b1 = tf.Variable(tf.random_normal([1024]))\n",
        "L1 = tf.nn.relu(tf.matmul(X, W1) + b1)\n",
        "\n",
        "W2 = tf.get_variable(\"W2\", shape=[1024, 784], initializer=tf.contrib.layers.xavier_initializer())\n",
        "b2 = tf.Variable(tf.random_normal([784]))\n",
        "hypothesis = tf.nn.sigmoid(tf.matmul(L1, W2) + b2)\n",
        "\n",
        "def kld(p,p_hat):\n",
        "  return tf.reduce_mean(p*(tf.log(p)-tf.log(p_hat))+(1-p)*(tf.log(1-p)-tf.log(1-p_hat)))\n",
        "\n",
        "cost = tf.reduce_mean(tf.pow(X - hypothesis, 2)) + sp * kld(rn,hypothesis)\n",
        "optimizer = tf.train.AdamOptimizer(learning_rate=learning_rate).minimize(cost)\n",
        "\n",
        "# initialize\n",
        "sess = tf.Session()\n",
        "sess.run(tf.global_variables_initializer())\n",
        "\n",
        "for epoch in range(training_epochs):\n",
        "    avg_cost = 0\n",
        "    total_batch = int(mnist.train.num_examples / batch_size)\n",
        "\n",
        "    for i in range(total_batch):\n",
        "        batch_xs, batch_ys = mnist.train.next_batch(batch_size)\n",
        "        feed_dict = {X: batch_xs}\n",
        "        c, _ = sess.run([cost, optimizer], feed_dict=feed_dict)\n",
        "        avg_cost += c / total_batch\n",
        "\n",
        "    print('Epoch:', '%04d' % (epoch + 1), 'cost =', '{:.9f}'.format(avg_cost))\n",
        "\n",
        "print('Learning Finished!')\n",
        "\n",
        "sample_size = 10\n",
        "\n",
        "samples = sess.run(hypothesis, feed_dict= { X : mnist.test.images})\n",
        "\n",
        "print(np.max(samples[0]))\n",
        "\n",
        "fig, ax = plt.subplots(2, sample_size, figsize = (sample_size ,2))\n",
        "\n",
        "for i in range(sample_size):\n",
        "    ax[0][i].set_axis_off()\n",
        "    ax[1][i].set_axis_off()\n",
        "    ax[0][i].imshow(np.reshape(mnist.test.images[i], (28,28)))\n",
        "    ax[1][i].imshow(np.reshape(samples[i], (28,28)))\n",
        "\n",
        "plt.show()"
      ],
      "execution_count": 1,
      "outputs": [
        {
          "output_type": "stream",
          "text": [
            "WARNING:tensorflow:From <ipython-input-1-7ad49a5a9914>:8: read_data_sets (from tensorflow.contrib.learn.python.learn.datasets.mnist) is deprecated and will be removed in a future version.\n",
            "Instructions for updating:\n",
            "Please use alternatives such as official/mnist/dataset.py from tensorflow/models.\n",
            "WARNING:tensorflow:From /usr/local/lib/python3.6/dist-packages/tensorflow/contrib/learn/python/learn/datasets/mnist.py:260: maybe_download (from tensorflow.contrib.learn.python.learn.datasets.base) is deprecated and will be removed in a future version.\n",
            "Instructions for updating:\n",
            "Please write your own downloading logic.\n",
            "WARNING:tensorflow:From /usr/local/lib/python3.6/dist-packages/tensorflow/contrib/learn/python/learn/datasets/mnist.py:262: extract_images (from tensorflow.contrib.learn.python.learn.datasets.mnist) is deprecated and will be removed in a future version.\n",
            "Instructions for updating:\n",
            "Please use tf.data to implement this functionality.\n",
            "Extracting MNIST_data/train-images-idx3-ubyte.gz\n",
            "WARNING:tensorflow:From /usr/local/lib/python3.6/dist-packages/tensorflow/contrib/learn/python/learn/datasets/mnist.py:267: extract_labels (from tensorflow.contrib.learn.python.learn.datasets.mnist) is deprecated and will be removed in a future version.\n",
            "Instructions for updating:\n",
            "Please use tf.data to implement this functionality.\n",
            "Extracting MNIST_data/train-labels-idx1-ubyte.gz\n",
            "WARNING:tensorflow:From /usr/local/lib/python3.6/dist-packages/tensorflow/contrib/learn/python/learn/datasets/mnist.py:110: dense_to_one_hot (from tensorflow.contrib.learn.python.learn.datasets.mnist) is deprecated and will be removed in a future version.\n",
            "Instructions for updating:\n",
            "Please use tf.one_hot on tensors.\n",
            "Extracting MNIST_data/t10k-images-idx3-ubyte.gz\n",
            "Extracting MNIST_data/t10k-labels-idx1-ubyte.gz\n",
            "WARNING:tensorflow:From /usr/local/lib/python3.6/dist-packages/tensorflow/contrib/learn/python/learn/datasets/mnist.py:290: DataSet.__init__ (from tensorflow.contrib.learn.python.learn.datasets.mnist) is deprecated and will be removed in a future version.\n",
            "Instructions for updating:\n",
            "Please use alternatives such as official/mnist/dataset.py from tensorflow/models.\n",
            "갯수 : 55000\n",
            "Epoch: 0001 cost = 0.050951932\n",
            "Epoch: 0002 cost = 0.017009743\n",
            "Epoch: 0003 cost = 0.011265538\n",
            "Epoch: 0004 cost = 0.008822233\n",
            "Epoch: 0005 cost = 0.007505832\n",
            "Epoch: 0006 cost = 0.006687050\n",
            "Epoch: 0007 cost = 0.006127017\n",
            "Epoch: 0008 cost = 0.005717445\n",
            "Epoch: 0009 cost = 0.005407216\n",
            "Epoch: 0010 cost = 0.005162116\n",
            "Epoch: 0011 cost = 0.004967364\n",
            "Epoch: 0012 cost = 0.004808272\n",
            "Epoch: 0013 cost = 0.004675171\n",
            "Epoch: 0014 cost = 0.004564017\n",
            "Epoch: 0015 cost = 0.004469650\n",
            "Epoch: 0016 cost = 0.004388670\n",
            "Epoch: 0017 cost = 0.004319011\n",
            "Epoch: 0018 cost = 0.004258193\n",
            "Epoch: 0019 cost = 0.004204447\n",
            "Epoch: 0020 cost = 0.004157554\n",
            "Epoch: 0021 cost = 0.004115695\n",
            "Epoch: 0022 cost = 0.004078380\n",
            "Epoch: 0023 cost = 0.004044860\n",
            "Epoch: 0024 cost = 0.004014563\n",
            "Epoch: 0025 cost = 0.003987573\n",
            "Epoch: 0026 cost = 0.003963124\n",
            "Epoch: 0027 cost = 0.003940768\n",
            "Epoch: 0028 cost = 0.003920585\n",
            "Epoch: 0029 cost = 0.003901969\n",
            "Epoch: 0030 cost = 0.003884879\n",
            "Epoch: 0031 cost = 0.003869663\n",
            "Epoch: 0032 cost = 0.003855213\n",
            "Epoch: 0033 cost = 0.003842314\n",
            "Epoch: 0034 cost = 0.003829998\n",
            "Epoch: 0035 cost = 0.003818940\n",
            "Epoch: 0036 cost = 0.003809080\n",
            "Epoch: 0037 cost = 0.003799240\n",
            "Epoch: 0038 cost = 0.003790507\n",
            "Epoch: 0039 cost = 0.003782451\n",
            "Epoch: 0040 cost = 0.003774936\n",
            "Epoch: 0041 cost = 0.003767891\n",
            "Epoch: 0042 cost = 0.003761528\n",
            "Epoch: 0043 cost = 0.003755175\n",
            "Epoch: 0044 cost = 0.003749565\n",
            "Epoch: 0045 cost = 0.003744100\n",
            "Epoch: 0046 cost = 0.003739550\n",
            "Epoch: 0047 cost = 0.003734828\n",
            "Epoch: 0048 cost = 0.003730504\n",
            "Epoch: 0049 cost = 0.003726294\n",
            "Epoch: 0050 cost = 0.003722482\n",
            "Learning Finished!\n",
            "0.96463203\n"
          ],
          "name": "stdout"
        },
        {
          "output_type": "display_data",
          "data": {
            "image/png": "[encoded data removed]",
            "text/plain": [
              "<matplotlib.figure.Figure at 0x7f45d62f1d30>"
            ]
          },
          "metadata": {
            "tags": []
          }
        }
      ]
    },
    {
      "metadata": {
        "id": "Solm1ZcP2w1t",
        "colab_type": "code",
        "colab": {}
      },
      "cell_type": "code",
      "source": [
        ""
      ],
      "execution_count": 0,
      "outputs": []
    }
  ]
}